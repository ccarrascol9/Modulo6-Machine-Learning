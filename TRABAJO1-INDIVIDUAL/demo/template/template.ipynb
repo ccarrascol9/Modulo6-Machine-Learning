{
 "cells": [
  {
   "cell_type": "markdown",
   "metadata": {
    "pycharm": {
     "name": "#%% md\n"
    }
   },
   "source": [
    "# _Template_ de proyecto\n",
    "\n"
   ]
  },
  {
   "cell_type": "markdown",
   "metadata": {},
   "source": [
    "## Regresión Lineal Múltiple\n"
   ]
  },
  {
   "attachments": {},
   "cell_type": "markdown",
   "metadata": {
    "pycharm": {
     "name": "#%% md\n"
    }
   },
   "source": [
    "### Objetivos:**\n",
    "\n",
    "###### Construir y evaluar un modelo de regresión lineal multiple para realizar predicciones de la variable Total Pernoctación, ya que es la más apropiado para reflejar los movimientos turísticos. Se pretende utilizar las variables independientes que influyen en la cantidad de pernoctaciones de acuerdo al mes de evaluación, destino,llegadas de personas al lugar, entre otras que se especificaran.\n",
    "###### Organizar el código del proyecto en modulos (i.e. archivos `.py`).\n",
    "###### Estructurar el proyecto en secciones.**\n",
    "\n",
    "\n",
    "---"
   ]
  },
  {
   "attachments": {},
   "cell_type": "markdown",
   "metadata": {},
   "source": [
    "### Glosario\n",
    "##### 1. Mes: Mes de funcionamiento del establecimiento\n",
    "##### 2.  Año: Año de funcionamiento del establecimiento\n",
    "##### 3. Días funcionamiento: Número de días del mes que el establecimiento permaneció abierto\n",
    "##### 4. Clase\tEstablecimiento: clasificado como Hotel (hotel y apart-hotel), y Otros (hostales, hosterías, residenciales, cabañas y similares)\n",
    "##### 5. Región: Nombre de la región\n",
    "##### 6. Destino Turístico: Espacio físico en el cual un turista está al menos una noche. El destino incluye productos turísticos como servicios de apoyo, atracciones y recursos turísticos.\n",
    "##### 7. Total Llegadas residentes en Chile\tNúmero total de pasajeros con residencia en Chile que llegan a establecimientos de alojamiento turístico\n",
    "##### 8. Total Pernoctaciones residentes en Chile: Número total de noches que los pasajeros con residencia en Chile alojan en el establecimiento de alojamiento turístico\n",
    "##### 9. Total Llegadas residentes en el Extranjero: Número total de pasajeros con residencia extranjeros que llegan a establecimientos de alojamiento turístico\n",
    "##### 10. Total Pernoctaciones residentes en el Extranjero: Número total de noches que los pasajeros con residencia en el Extranjero alojan en el establecimiento de alojamiento turístico\n",
    "##### 11. Total Llegadas: Número total de pasajeros con residencia en Chile y en el Extranjero que llegan a establecimientos de alojamiento turístico\n",
    "##### 12. Total Pernoctaciones: Número total de noches que los pasajeros con residencia en Chile y en el Extranjero alojan en el establecimiento de alojamiento turístico\n",
    "##### 13. Factor de Expansión: Factor de Expansión asociado al Establecimiento\n"
   ]
  },
  {
   "cell_type": "code",
   "execution_count": 1,
   "metadata": {
    "pycharm": {
     "name": "#%%\n"
    }
   },
   "outputs": [],
   "source": [
    "# Funciones y rutinas para descargar, procesar los datos, y cargarlos\n",
    "import proj_code.dataset as l              # Funciones y rutinas para descargar, procesar los datos, y cargarlos\n",
    "import proj_code.model as m                # Clase con el modelo a implementar\n",
    "import proj_code.metric as me              # Metrics utilizadas para el análisis\n",
    "import matplotlib.pyplot as plt            # Librería para crear visualizaciones\n",
    "from sklearn.model_selection import train_test_split# Para separar datos en entrenamiento y evaluación\n",
    "\n"
   ]
  },
  {
   "cell_type": "markdown",
   "metadata": {
    "pycharm": {
     "name": "#%% md\n"
    }
   },
   "source": [
    "## 1. Cargar datos\n",
    "\n",
    "Sección en que se utilizaran las funciones del módulo `dataset.py` para facilitar la gestión y manejo de nuestros datos."
   ]
  },
  {
   "cell_type": "markdown",
   "metadata": {},
   "source": [
    "**Asignamos el valor que nos entrega la función en doc() en df**"
   ]
  },
  {
   "cell_type": "code",
   "execution_count": 2,
   "metadata": {},
   "outputs": [],
   "source": [
    "df=l.doc()"
   ]
  },
  {
   "cell_type": "markdown",
   "metadata": {},
   "source": [
    "**Revisamos las variables de nuestro conjunto de datos**"
   ]
  },
  {
   "cell_type": "code",
   "execution_count": 3,
   "metadata": {},
   "outputs": [
    {
     "data": {
      "text/html": [
       "<div>\n",
       "<style scoped>\n",
       "    .dataframe tbody tr th:only-of-type {\n",
       "        vertical-align: middle;\n",
       "    }\n",
       "\n",
       "    .dataframe tbody tr th {\n",
       "        vertical-align: top;\n",
       "    }\n",
       "\n",
       "    .dataframe thead th {\n",
       "        text-align: right;\n",
       "    }\n",
       "</style>\n",
       "<table border=\"1\" class=\"dataframe\">\n",
       "  <thead>\n",
       "    <tr style=\"text-align: right;\">\n",
       "      <th></th>\n",
       "      <th>Mes</th>\n",
       "      <th>Año</th>\n",
       "      <th>Dias_func</th>\n",
       "      <th>Clase</th>\n",
       "      <th>Región</th>\n",
       "      <th>Dest_turistico</th>\n",
       "      <th>Total_lleg_chilenos</th>\n",
       "      <th>Total_perc_chilenos</th>\n",
       "      <th>Total_lleg_ext</th>\n",
       "      <th>Total_perc_ext</th>\n",
       "      <th>Total_lleg</th>\n",
       "      <th>Total_perc</th>\n",
       "      <th>Factor_exp</th>\n",
       "    </tr>\n",
       "  </thead>\n",
       "  <tbody>\n",
       "    <tr>\n",
       "      <th>0</th>\n",
       "      <td>1</td>\n",
       "      <td>2017</td>\n",
       "      <td>31</td>\n",
       "      <td>Hotel</td>\n",
       "      <td>14</td>\n",
       "      <td>31</td>\n",
       "      <td>2114</td>\n",
       "      <td>3460</td>\n",
       "      <td>7503</td>\n",
       "      <td>10494</td>\n",
       "      <td>9617</td>\n",
       "      <td>13954</td>\n",
       "      <td>1.0</td>\n",
       "    </tr>\n",
       "    <tr>\n",
       "      <th>1</th>\n",
       "      <td>1</td>\n",
       "      <td>2017</td>\n",
       "      <td>31</td>\n",
       "      <td>Hotel</td>\n",
       "      <td>14</td>\n",
       "      <td>31</td>\n",
       "      <td>549</td>\n",
       "      <td>765</td>\n",
       "      <td>3315</td>\n",
       "      <td>7370</td>\n",
       "      <td>3864</td>\n",
       "      <td>8135</td>\n",
       "      <td>1.0</td>\n",
       "    </tr>\n",
       "  </tbody>\n",
       "</table>\n",
       "</div>"
      ],
      "text/plain": [
       "   Mes   Año  Dias_func  Clase  Región  Dest_turistico  Total_lleg_chilenos  \\\n",
       "0    1  2017         31  Hotel      14              31                 2114   \n",
       "1    1  2017         31  Hotel      14              31                  549   \n",
       "\n",
       "    Total_perc_chilenos  Total_lleg_ext  Total_perc_ext  Total_lleg  \\\n",
       "0                  3460            7503           10494        9617   \n",
       "1                   765            3315            7370        3864   \n",
       "\n",
       "   Total_perc  Factor_exp  \n",
       "0       13954         1.0  \n",
       "1        8135         1.0  "
      ]
     },
     "execution_count": 3,
     "metadata": {},
     "output_type": "execute_result"
    }
   ],
   "source": [
    "df.head(2)"
   ]
  },
  {
   "cell_type": "markdown",
   "metadata": {},
   "source": [
    "**Asignamos las variables independientes que permitiran predecir nuestra variable objetivo y la guardamos en \"x\", luego asignamos en \"y \"la variable independiente**"
   ]
  },
  {
   "cell_type": "code",
   "execution_count": 4,
   "metadata": {},
   "outputs": [],
   "source": [
    "X = df[['Mes', 'Total_lleg_chilenos', 'Total_lleg_ext', 'Total_lleg', 'Región', 'Dest_turistico']]\n",
    "y = df['Total_perc']"
   ]
  },
  {
   "cell_type": "markdown",
   "metadata": {},
   "source": [
    "**Inspeccionamos las dimensiones de nuestros datasets X e y**"
   ]
  },
  {
   "cell_type": "code",
   "execution_count": 5,
   "metadata": {},
   "outputs": [
    {
     "data": {
      "text/plain": [
       "((29734, 6), (29734,))"
      ]
     },
     "execution_count": 5,
     "metadata": {},
     "output_type": "execute_result"
    }
   ],
   "source": [
    "X.shape, y.shape"
   ]
  },
  {
   "cell_type": "markdown",
   "metadata": {},
   "source": [
    "**Revisamos las observaciones para verificar formato de y**"
   ]
  },
  {
   "cell_type": "code",
   "execution_count": 6,
   "metadata": {},
   "outputs": [
    {
     "data": {
      "text/plain": [
       "0    13954\n",
       "1     8135\n",
       "2    10029\n",
       "Name: Total_perc, dtype: int64"
      ]
     },
     "execution_count": 6,
     "metadata": {},
     "output_type": "execute_result"
    }
   ],
   "source": [
    "y.head(3)"
   ]
  },
  {
   "cell_type": "markdown",
   "metadata": {},
   "source": [
    "**Revisamos las observaciones para verificar formato de X**"
   ]
  },
  {
   "cell_type": "code",
   "execution_count": 7,
   "metadata": {},
   "outputs": [
    {
     "data": {
      "text/html": [
       "<div>\n",
       "<style scoped>\n",
       "    .dataframe tbody tr th:only-of-type {\n",
       "        vertical-align: middle;\n",
       "    }\n",
       "\n",
       "    .dataframe tbody tr th {\n",
       "        vertical-align: top;\n",
       "    }\n",
       "\n",
       "    .dataframe thead th {\n",
       "        text-align: right;\n",
       "    }\n",
       "</style>\n",
       "<table border=\"1\" class=\"dataframe\">\n",
       "  <thead>\n",
       "    <tr style=\"text-align: right;\">\n",
       "      <th></th>\n",
       "      <th>Mes</th>\n",
       "      <th>Total_lleg_chilenos</th>\n",
       "      <th>Total_lleg_ext</th>\n",
       "      <th>Total_lleg</th>\n",
       "      <th>Región</th>\n",
       "      <th>Dest_turistico</th>\n",
       "    </tr>\n",
       "  </thead>\n",
       "  <tbody>\n",
       "    <tr>\n",
       "      <th>0</th>\n",
       "      <td>1</td>\n",
       "      <td>2114</td>\n",
       "      <td>7503</td>\n",
       "      <td>9617</td>\n",
       "      <td>14</td>\n",
       "      <td>31</td>\n",
       "    </tr>\n",
       "    <tr>\n",
       "      <th>1</th>\n",
       "      <td>1</td>\n",
       "      <td>549</td>\n",
       "      <td>3315</td>\n",
       "      <td>3864</td>\n",
       "      <td>14</td>\n",
       "      <td>31</td>\n",
       "    </tr>\n",
       "    <tr>\n",
       "      <th>2</th>\n",
       "      <td>1</td>\n",
       "      <td>681</td>\n",
       "      <td>2861</td>\n",
       "      <td>3542</td>\n",
       "      <td>14</td>\n",
       "      <td>31</td>\n",
       "    </tr>\n",
       "  </tbody>\n",
       "</table>\n",
       "</div>"
      ],
      "text/plain": [
       "   Mes  Total_lleg_chilenos  Total_lleg_ext  Total_lleg  Región  \\\n",
       "0    1                 2114            7503        9617      14   \n",
       "1    1                  549            3315        3864      14   \n",
       "2    1                  681            2861        3542      14   \n",
       "\n",
       "   Dest_turistico  \n",
       "0              31  \n",
       "1              31  \n",
       "2              31  "
      ]
     },
     "execution_count": 7,
     "metadata": {},
     "output_type": "execute_result"
    }
   ],
   "source": [
    "X.head(3)"
   ]
  },
  {
   "cell_type": "markdown",
   "metadata": {},
   "source": [
    "**Ahora vamos a dejar un 20% del _dataset_ destinado a evaluar que tan bien ajusta nuestro modelo.**\n",
    "\n",
    "**Fraccionaremos el conjunto de datos de manera aleatoria, para garantizar la reproducibilidad de los resultados utilizaremos el argumento `random_state` dandole una semilla que permite replicar los resultados, valor utilizado ramdon = 500**"
   ]
  },
  {
   "cell_type": "code",
   "execution_count": 8,
   "metadata": {},
   "outputs": [],
   "source": [
    "X_train, X_test, y_train, y_test = train_test_split(X, y, test_size=0.2, random_state=500)"
   ]
  },
  {
   "cell_type": "markdown",
   "metadata": {},
   "source": [
    "**Visualizamos la cantidad de datos asignados a entrenamiento y pruebas para X**"
   ]
  },
  {
   "cell_type": "code",
   "execution_count": 9,
   "metadata": {},
   "outputs": [
    {
     "data": {
      "text/plain": [
       "((23787, 6), (5947, 6))"
      ]
     },
     "execution_count": 9,
     "metadata": {},
     "output_type": "execute_result"
    }
   ],
   "source": [
    "X_train.shape, X_test.shape"
   ]
  },
  {
   "cell_type": "markdown",
   "metadata": {},
   "source": [
    "**Visualizamos la cantidad de datos asignados a entrenamiento y pruebas para y**"
   ]
  },
  {
   "cell_type": "code",
   "execution_count": 10,
   "metadata": {},
   "outputs": [
    {
     "data": {
      "text/plain": [
       "((23787,), (5947,))"
      ]
     },
     "execution_count": 10,
     "metadata": {},
     "output_type": "execute_result"
    }
   ],
   "source": [
    "y_train.shape, y_test.shape"
   ]
  },
  {
   "cell_type": "markdown",
   "metadata": {
    "pycharm": {
     "is_executing": true,
     "name": "#%% md\n"
    }
   },
   "source": [
    "# 2. Modelos\n",
    "\n",
    "Sección en que se utilizaremos los modelos especificados en el módulo `model.py`.\n"
   ]
  },
  {
   "cell_type": "markdown",
   "metadata": {},
   "source": [
    "## Entrenaremos tres modelos:\n",
    "\n",
    "#### * Regresión Lineal Múltiple\n",
    "#### * KNN (Vecino más cercano)\n",
    "#### * Random Forest\n",
    "\n",
    "\n",
    "\n",
    "\n",
    "**Definimos los distintos modelos a utilizar y le pasamos nuestros datos de entrenamiento**"
   ]
  },
  {
   "cell_type": "code",
   "execution_count": 11,
   "metadata": {},
   "outputs": [],
   "source": [
    "modelo_reg_lineal= m.reg_lineal(X_train, y_train.values.ravel())\n",
    "modelo_reg_knn = m.reg_KNN(X_train, y_train.values.ravel())\n",
    "modelo_reg_forest = m.reg_Forest(X_train, y_train.values.ravel())"
   ]
  },
  {
   "cell_type": "markdown",
   "metadata": {},
   "source": [
    "**Nuestros modelos ya fueron ajustados y podemos utilizarlos para obtener las predicciones sobre el conjunto que separamos para medir el desempeño. La idea de probar el modelo en datos que no utilizó es medir la generalización en datos nunca antes vistos.**"
   ]
  },
  {
   "cell_type": "code",
   "execution_count": 12,
   "metadata": {
    "pycharm": {
     "name": "#%%\n"
    }
   },
   "outputs": [],
   "source": [
    "reg_lineal_preds = modelo_reg_lineal.predict(X_test)\n",
    "reg_knn_preds = modelo_reg_knn.predict(X_test)\n",
    "reg_forest_preds = modelo_reg_forest.predict(X_test)"
   ]
  },
  {
   "cell_type": "markdown",
   "metadata": {
    "pycharm": {
     "name": "#%% md\n"
    }
   },
   "source": [
    "## 3. Métricas\n",
    "\n",
    "**Sección en que se utilizaran las métricas especificadas en el módulo `metric.py`.**"
   ]
  },
  {
   "cell_type": "markdown",
   "metadata": {},
   "source": [
    "**Calcularemos el error absoluto medio MAE el cual calcula el promedio de las diferencias absolutas entre los valores objetivos y las predicciones\n",
    "No es sensible a valores atipicos**"
   ]
  },
  {
   "cell_type": "code",
   "execution_count": 13,
   "metadata": {
    "pycharm": {
     "name": "#%%\n"
    }
   },
   "outputs": [
    {
     "name": "stdout",
     "output_type": "stream",
     "text": [
      "MAE según modelo Regresión Lineal: 187.37920153577943\n",
      "MAE según modelo KNN: 170.1006894232386\n",
      "MAE según modelo Random Forest: 140.71817899131398\n"
     ]
    }
   ],
   "source": [
    "print(f'MAE según modelo Regresión Lineal: {me.metrica_mean(y_test, reg_lineal_preds)}')\n",
    "print(f'MAE según modelo KNN: {me.metrica_mean(y_test, reg_knn_preds)}')\n",
    "print(f'MAE según modelo Random Forest: {me.metrica_mean(y_test, reg_forest_preds)}')"
   ]
  },
  {
   "cell_type": "markdown",
   "metadata": {},
   "source": [
    "**Error cuadratico medio MSE:  Calcula la diferencia cuadrada entre las predicciones y el objetivo, luego promedia esos valores.\n",
    "Mientras mayor sea el valor peor es el modelo, seria 0 para un modelo perfecto**"
   ]
  },
  {
   "cell_type": "code",
   "execution_count": 14,
   "metadata": {},
   "outputs": [
    {
     "name": "stdout",
     "output_type": "stream",
     "text": [
      "MSE según modelo Regresión Lineal: 210583.12536231778\n",
      "MSE según modelo KNN: 175851.03217084246\n",
      "MSE según modelo Random Forest: 114346.59764182022\n"
     ]
    }
   ],
   "source": [
    "print(f'MSE según modelo Regresión Lineal: {me.metrica_mean_squared_error(y_test, reg_lineal_preds)}')\n",
    "print(f'MSE según modelo KNN: {me.metrica_mean_squared_error(y_test, reg_knn_preds)}')\n",
    "print(f'MSE según modelo Random Forest: {me.metrica_mean_squared_error(y_test, reg_forest_preds)}')"
   ]
  },
  {
   "cell_type": "markdown",
   "metadata": {},
   "source": [
    "**Error cuadratico medio RMSE: es la raiz cuadrada de MSE, para que la escala de errores sea igual a la escala de objetivos**"
   ]
  },
  {
   "cell_type": "code",
   "execution_count": 15,
   "metadata": {},
   "outputs": [
    {
     "name": "stdout",
     "output_type": "stream",
     "text": [
      "RMSE según modelo Regresión Lineal: 458.893370362133\n",
      "RMSE según modelo KNN: 419.3459576183398\n",
      "RMSE según modelo Random Forest: 338.1517375998831\n"
     ]
    }
   ],
   "source": [
    "print(f'RMSE según modelo Regresión Lineal: {me.metrica_sqrt(y_test, reg_lineal_preds)}')\n",
    "print(f'RMSE según modelo KNN: {me.metrica_sqrt(y_test, reg_knn_preds)}')\n",
    "print(f'RMSE según modelo Random Forest: {me.metrica_sqrt(y_test, reg_forest_preds)}')"
   ]
  },
  {
   "cell_type": "markdown",
   "metadata": {},
   "source": [
    "**Calcularemos el coeficiente de determinación, el cual representa la proporción de varianza (de y) que ha sido explicada por las variables independientes en el modelo, mientras más cercano a 1 mejor será el modelo**"
   ]
  },
  {
   "cell_type": "code",
   "execution_count": 16,
   "metadata": {},
   "outputs": [
    {
     "name": "stdout",
     "output_type": "stream",
     "text": [
      "R2 según modelo Regresión Lineal: 0.8576754465366765\n",
      "según modelo KNN: 0.8811494530403705\n",
      "R2 según modelo Random Forest: 0.9227177941184904\n"
     ]
    }
   ],
   "source": [
    "print(f'R2 según modelo Regresión Lineal: {me.metrica_r2(y_test, reg_lineal_preds)}')\n",
    "print(f'según modelo KNN: {me.metrica_r2(y_test, reg_knn_preds)}')\n",
    "print(f'R2 según modelo Random Forest: {me.metrica_r2(y_test, reg_forest_preds)}')"
   ]
  },
  {
   "cell_type": "markdown",
   "metadata": {},
   "source": [
    "**D2 Calcula la fracción de desviación explicada, la mejor puntuación es 1**"
   ]
  },
  {
   "cell_type": "code",
   "execution_count": 17,
   "metadata": {},
   "outputs": [
    {
     "name": "stdout",
     "output_type": "stream",
     "text": [
      "d2 según modelo Regresión Lineal: 0.8576754465366765\n",
      "d2 según modelo KNN: 0.8811494530403705\n",
      "d2 según modelo Random Forest: 0.9227177941184904\n"
     ]
    }
   ],
   "source": [
    "print(f'd2 según modelo Regresión Lineal: {me.metrica_d2(y_test, reg_lineal_preds)}')\n",
    "print(f'd2 según modelo KNN: {me.metrica_d2(y_test, reg_knn_preds)}')\n",
    "print(f'd2 según modelo Random Forest: {me.metrica_d2(y_test, reg_forest_preds)}')"
   ]
  },
  {
   "cell_type": "markdown",
   "metadata": {},
   "source": [
    "**Calcularemos el error absoluto mediano, el cual es robusto a los valores atípicos. La perdida se calcula con la mediana de todas las diferencias absolutas entre el objetivo y la predicción.**"
   ]
  },
  {
   "cell_type": "code",
   "execution_count": 18,
   "metadata": {},
   "outputs": [
    {
     "name": "stdout",
     "output_type": "stream",
     "text": [
      "error absoluto mediano según modelo Regresión Lineal: 79.32088129966542\n",
      "error absoluto mediano según modelo KNN: 47.400000000000006\n",
      "error absoluto mediano según modelo Random Forest: 46.55000000000001\n"
     ]
    }
   ],
   "source": [
    "print(f'error absoluto mediano según modelo Regresión Lineal: {me.metrica_error_mediano(y_test, reg_lineal_preds)}')\n",
    "print(f'error absoluto mediano según modelo KNN: {me.metrica_error_mediano(y_test, reg_knn_preds)}')\n",
    "print(f'error absoluto mediano según modelo Random Forest: {me.metrica_error_mediano(y_test, reg_forest_preds)}')"
   ]
  },
  {
   "cell_type": "markdown",
   "metadata": {},
   "source": [
    "**Evalua el rendimiento predictivo de los modelos por cuantiles, indicando el valor de pérdida**"
   ]
  },
  {
   "cell_type": "code",
   "execution_count": 19,
   "metadata": {},
   "outputs": [
    {
     "name": "stdout",
     "output_type": "stream",
     "text": [
      "valor de pérdida por cuartiles según modelo Regresión Lineal: 93.68960076788971\n",
      "valor de pérdida por cuartiles según modelo KNN: 85.0503447116193\n",
      "valor de pérdida por cuartiles según modelo Random Forest: 70.35908949565699\n"
     ]
    }
   ],
   "source": [
    "print(f'valor de pérdida por cuartiles según modelo Regresión Lineal: {me.metrica_cuartiles(y_test, reg_lineal_preds)}')\n",
    "print(f'valor de pérdida por cuartiles según modelo KNN: {me.metrica_cuartiles(y_test, reg_knn_preds)}')\n",
    "print(f'valor de pérdida por cuartiles según modelo Random Forest: {me.metrica_cuartiles(y_test, reg_forest_preds)}')"
   ]
  },
  {
   "cell_type": "markdown",
   "metadata": {},
   "source": [
    "### Conclusiones"
   ]
  },
  {
   "cell_type": "markdown",
   "metadata": {},
   "source": [
    "**De acuerdo a las diferentes métricas se considera que el mejor modelo predictivo es el de Randon Forest ya que presenta el mejor R2 cuadrado con un valor de 0.9227177941184904, por otro lado en las restantes métricas de evaluación de error presentó los números más bajos.**"
   ]
  },
  {
   "cell_type": "code",
   "execution_count": null,
   "metadata": {},
   "outputs": [],
   "source": []
  }
 ],
 "metadata": {
  "kernelspec": {
   "display_name": "Python 3 (ipykernel)",
   "language": "python",
   "name": "python3"
  },
  "language_info": {
   "codemirror_mode": {
    "name": "ipython",
    "version": 3
   },
   "file_extension": ".py",
   "mimetype": "text/x-python",
   "name": "python",
   "nbconvert_exporter": "python",
   "pygments_lexer": "ipython3",
   "version": "3.10.6"
  }
 },
 "nbformat": 4,
 "nbformat_minor": 1
}
